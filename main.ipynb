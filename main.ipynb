{
 "cells": [
  {
   "cell_type": "code",
   "execution_count": 58,
   "metadata": {},
   "outputs": [],
   "source": [
    "#Load libraries\n",
    "import pandas as pd\n",
    "import numpy as np\n",
    "import matplotlib.pyplot as plt\n",
    "from sklearn import model_selection\n",
    "from sklearn.model_selection import train_test_split\n",
    "from sklearn.metrics import accuracy_score\n",
    "from sklearn.linear_model import LogisticRegression\n",
    "from sklearn.linear_model import LinearRegression\n",
    "from sklearn.ensemble import RandomForestClassifier\n",
    "from sklearn.neighbors import KNeighborsClassifier\n",
    "from sklearn.svm import SVC\n",
    "from sklearn.tree import DecisionTreeClassifier, export_graphviz\n",
    "\n"
   ]
  },
  {
   "cell_type": "code",
   "execution_count": 59,
   "metadata": {},
   "outputs": [
    {
     "output_type": "execute_result",
     "data": {
      "text/plain": "      Loan_ID  Gender Married Dependents     Education Self_Employed  \\\n0    LP001003    Male     Yes          1      Graduate            No   \n1    LP001005    Male     Yes          0      Graduate           Yes   \n2    LP001006    Male     Yes          0  Not Graduate            No   \n3    LP001008    Male      No          0      Graduate            No   \n4    LP001011    Male     Yes          2      Graduate           Yes   \n..        ...     ...     ...        ...           ...           ...   \n475  LP002978  Female      No          0      Graduate            No   \n476  LP002979    Male     Yes         3+      Graduate            No   \n477  LP002983    Male     Yes          1      Graduate            No   \n478  LP002984    Male     Yes          2      Graduate            No   \n479  LP002990  Female      No          0      Graduate           Yes   \n\n     ApplicantIncome  CoapplicantIncome  LoanAmount  Loan_Amount_Term  \\\n0               4583             1508.0         128               360   \n1               3000                0.0          66               360   \n2               2583             2358.0         120               360   \n3               6000                0.0         141               360   \n4               5417             4196.0         267               360   \n..               ...                ...         ...               ...   \n475             2900                0.0          71               360   \n476             4106                0.0          40               180   \n477             8072              240.0         253               360   \n478             7583                0.0         187               360   \n479             4583                0.0         133               360   \n\n     Credit_History Property_Area Loan_Status  \n0                 1         Rural           N  \n1                 1         Urban           Y  \n2                 1         Urban           Y  \n3                 1         Urban           Y  \n4                 1         Urban           Y  \n..              ...           ...         ...  \n475               1         Rural           Y  \n476               1         Rural           Y  \n477               1         Urban           Y  \n478               1         Urban           Y  \n479               0     Semiurban           N  \n\n[480 rows x 13 columns]",
      "text/html": "<div>\n<style scoped>\n    .dataframe tbody tr th:only-of-type {\n        vertical-align: middle;\n    }\n\n    .dataframe tbody tr th {\n        vertical-align: top;\n    }\n\n    .dataframe thead th {\n        text-align: right;\n    }\n</style>\n<table border=\"1\" class=\"dataframe\">\n  <thead>\n    <tr style=\"text-align: right;\">\n      <th></th>\n      <th>Loan_ID</th>\n      <th>Gender</th>\n      <th>Married</th>\n      <th>Dependents</th>\n      <th>Education</th>\n      <th>Self_Employed</th>\n      <th>ApplicantIncome</th>\n      <th>CoapplicantIncome</th>\n      <th>LoanAmount</th>\n      <th>Loan_Amount_Term</th>\n      <th>Credit_History</th>\n      <th>Property_Area</th>\n      <th>Loan_Status</th>\n    </tr>\n  </thead>\n  <tbody>\n    <tr>\n      <th>0</th>\n      <td>LP001003</td>\n      <td>Male</td>\n      <td>Yes</td>\n      <td>1</td>\n      <td>Graduate</td>\n      <td>No</td>\n      <td>4583</td>\n      <td>1508.0</td>\n      <td>128</td>\n      <td>360</td>\n      <td>1</td>\n      <td>Rural</td>\n      <td>N</td>\n    </tr>\n    <tr>\n      <th>1</th>\n      <td>LP001005</td>\n      <td>Male</td>\n      <td>Yes</td>\n      <td>0</td>\n      <td>Graduate</td>\n      <td>Yes</td>\n      <td>3000</td>\n      <td>0.0</td>\n      <td>66</td>\n      <td>360</td>\n      <td>1</td>\n      <td>Urban</td>\n      <td>Y</td>\n    </tr>\n    <tr>\n      <th>2</th>\n      <td>LP001006</td>\n      <td>Male</td>\n      <td>Yes</td>\n      <td>0</td>\n      <td>Not Graduate</td>\n      <td>No</td>\n      <td>2583</td>\n      <td>2358.0</td>\n      <td>120</td>\n      <td>360</td>\n      <td>1</td>\n      <td>Urban</td>\n      <td>Y</td>\n    </tr>\n    <tr>\n      <th>3</th>\n      <td>LP001008</td>\n      <td>Male</td>\n      <td>No</td>\n      <td>0</td>\n      <td>Graduate</td>\n      <td>No</td>\n      <td>6000</td>\n      <td>0.0</td>\n      <td>141</td>\n      <td>360</td>\n      <td>1</td>\n      <td>Urban</td>\n      <td>Y</td>\n    </tr>\n    <tr>\n      <th>4</th>\n      <td>LP001011</td>\n      <td>Male</td>\n      <td>Yes</td>\n      <td>2</td>\n      <td>Graduate</td>\n      <td>Yes</td>\n      <td>5417</td>\n      <td>4196.0</td>\n      <td>267</td>\n      <td>360</td>\n      <td>1</td>\n      <td>Urban</td>\n      <td>Y</td>\n    </tr>\n    <tr>\n      <th>...</th>\n      <td>...</td>\n      <td>...</td>\n      <td>...</td>\n      <td>...</td>\n      <td>...</td>\n      <td>...</td>\n      <td>...</td>\n      <td>...</td>\n      <td>...</td>\n      <td>...</td>\n      <td>...</td>\n      <td>...</td>\n      <td>...</td>\n    </tr>\n    <tr>\n      <th>475</th>\n      <td>LP002978</td>\n      <td>Female</td>\n      <td>No</td>\n      <td>0</td>\n      <td>Graduate</td>\n      <td>No</td>\n      <td>2900</td>\n      <td>0.0</td>\n      <td>71</td>\n      <td>360</td>\n      <td>1</td>\n      <td>Rural</td>\n      <td>Y</td>\n    </tr>\n    <tr>\n      <th>476</th>\n      <td>LP002979</td>\n      <td>Male</td>\n      <td>Yes</td>\n      <td>3+</td>\n      <td>Graduate</td>\n      <td>No</td>\n      <td>4106</td>\n      <td>0.0</td>\n      <td>40</td>\n      <td>180</td>\n      <td>1</td>\n      <td>Rural</td>\n      <td>Y</td>\n    </tr>\n    <tr>\n      <th>477</th>\n      <td>LP002983</td>\n      <td>Male</td>\n      <td>Yes</td>\n      <td>1</td>\n      <td>Graduate</td>\n      <td>No</td>\n      <td>8072</td>\n      <td>240.0</td>\n      <td>253</td>\n      <td>360</td>\n      <td>1</td>\n      <td>Urban</td>\n      <td>Y</td>\n    </tr>\n    <tr>\n      <th>478</th>\n      <td>LP002984</td>\n      <td>Male</td>\n      <td>Yes</td>\n      <td>2</td>\n      <td>Graduate</td>\n      <td>No</td>\n      <td>7583</td>\n      <td>0.0</td>\n      <td>187</td>\n      <td>360</td>\n      <td>1</td>\n      <td>Urban</td>\n      <td>Y</td>\n    </tr>\n    <tr>\n      <th>479</th>\n      <td>LP002990</td>\n      <td>Female</td>\n      <td>No</td>\n      <td>0</td>\n      <td>Graduate</td>\n      <td>Yes</td>\n      <td>4583</td>\n      <td>0.0</td>\n      <td>133</td>\n      <td>360</td>\n      <td>0</td>\n      <td>Semiurban</td>\n      <td>N</td>\n    </tr>\n  </tbody>\n</table>\n<p>480 rows × 13 columns</p>\n</div>"
     },
     "metadata": {},
     "execution_count": 59
    }
   ],
   "source": [
    "#Load data from url\n",
    "url = \"https://raw.githubusercontent.com/callxpert/datasets/master/Loan-applicant-details.csv\"\n",
    "names = ['Loan_ID','Gender','Married','Dependents','Education','Self_Employed','ApplicantIncome','CoapplicantIncome','LoanAmount','Loan_Amount_Term','Credit_History','Property_Area','Loan_Status']\n",
    "dataset = pd.read_csv(url, names=names)\n",
    "dataset"
   ]
  },
  {
   "cell_type": "code",
   "execution_count": 60,
   "metadata": {},
   "outputs": [
    {
     "output_type": "execute_result",
     "data": {
      "text/plain": "     Loan_ID  Gender Married Dependents     Education Self_Employed  \\\n0   LP001003    Male     Yes          1      Graduate            No   \n1   LP001005    Male     Yes          0      Graduate           Yes   \n2   LP001006    Male     Yes          0  Not Graduate            No   \n3   LP001008    Male      No          0      Graduate            No   \n4   LP001011    Male     Yes          2      Graduate           Yes   \n5   LP001013    Male     Yes          0  Not Graduate            No   \n6   LP001014    Male     Yes         3+      Graduate            No   \n7   LP001018    Male     Yes          2      Graduate            No   \n8   LP001020    Male     Yes          1      Graduate            No   \n9   LP001024    Male     Yes          2      Graduate            No   \n10  LP001028    Male     Yes          2      Graduate            No   \n11  LP001029    Male      No          0      Graduate            No   \n12  LP001030    Male     Yes          2      Graduate            No   \n13  LP001032    Male      No          0      Graduate            No   \n14  LP001036  Female      No          0      Graduate            No   \n15  LP001038    Male     Yes          0  Not Graduate            No   \n16  LP001043    Male     Yes          0  Not Graduate            No   \n17  LP001046    Male     Yes          1      Graduate            No   \n18  LP001047    Male     Yes          0  Not Graduate            No   \n19  LP001066    Male     Yes          0      Graduate           Yes   \n\n    ApplicantIncome  CoapplicantIncome  LoanAmount  Loan_Amount_Term  \\\n0              4583             1508.0         128               360   \n1              3000                0.0          66               360   \n2              2583             2358.0         120               360   \n3              6000                0.0         141               360   \n4              5417             4196.0         267               360   \n5              2333             1516.0          95               360   \n6              3036             2504.0         158               360   \n7              4006             1526.0         168               360   \n8             12841            10968.0         349               360   \n9              3200              700.0          70               360   \n10             3073             8106.0         200               360   \n11             1853             2840.0         114               360   \n12             1299             1086.0          17               120   \n13             4950                0.0         125               360   \n14             3510                0.0          76               360   \n15             4887                0.0         133               360   \n16             7660                0.0         104               360   \n17             5955             5625.0         315               360   \n18             2600             1911.0         116               360   \n19             9560                0.0         191               360   \n\n    Credit_History Property_Area Loan_Status  \n0                1         Rural           N  \n1                1         Urban           Y  \n2                1         Urban           Y  \n3                1         Urban           Y  \n4                1         Urban           Y  \n5                1         Urban           Y  \n6                0     Semiurban           N  \n7                1         Urban           Y  \n8                1     Semiurban           N  \n9                1         Urban           Y  \n10               1         Urban           Y  \n11               1         Rural           N  \n12               1         Urban           Y  \n13               1         Urban           Y  \n14               0         Urban           N  \n15               1         Rural           N  \n16               0         Urban           N  \n17               1         Urban           Y  \n18               0     Semiurban           N  \n19               1     Semiurban           Y  ",
      "text/html": "<div>\n<style scoped>\n    .dataframe tbody tr th:only-of-type {\n        vertical-align: middle;\n    }\n\n    .dataframe tbody tr th {\n        vertical-align: top;\n    }\n\n    .dataframe thead th {\n        text-align: right;\n    }\n</style>\n<table border=\"1\" class=\"dataframe\">\n  <thead>\n    <tr style=\"text-align: right;\">\n      <th></th>\n      <th>Loan_ID</th>\n      <th>Gender</th>\n      <th>Married</th>\n      <th>Dependents</th>\n      <th>Education</th>\n      <th>Self_Employed</th>\n      <th>ApplicantIncome</th>\n      <th>CoapplicantIncome</th>\n      <th>LoanAmount</th>\n      <th>Loan_Amount_Term</th>\n      <th>Credit_History</th>\n      <th>Property_Area</th>\n      <th>Loan_Status</th>\n    </tr>\n  </thead>\n  <tbody>\n    <tr>\n      <th>0</th>\n      <td>LP001003</td>\n      <td>Male</td>\n      <td>Yes</td>\n      <td>1</td>\n      <td>Graduate</td>\n      <td>No</td>\n      <td>4583</td>\n      <td>1508.0</td>\n      <td>128</td>\n      <td>360</td>\n      <td>1</td>\n      <td>Rural</td>\n      <td>N</td>\n    </tr>\n    <tr>\n      <th>1</th>\n      <td>LP001005</td>\n      <td>Male</td>\n      <td>Yes</td>\n      <td>0</td>\n      <td>Graduate</td>\n      <td>Yes</td>\n      <td>3000</td>\n      <td>0.0</td>\n      <td>66</td>\n      <td>360</td>\n      <td>1</td>\n      <td>Urban</td>\n      <td>Y</td>\n    </tr>\n    <tr>\n      <th>2</th>\n      <td>LP001006</td>\n      <td>Male</td>\n      <td>Yes</td>\n      <td>0</td>\n      <td>Not Graduate</td>\n      <td>No</td>\n      <td>2583</td>\n      <td>2358.0</td>\n      <td>120</td>\n      <td>360</td>\n      <td>1</td>\n      <td>Urban</td>\n      <td>Y</td>\n    </tr>\n    <tr>\n      <th>3</th>\n      <td>LP001008</td>\n      <td>Male</td>\n      <td>No</td>\n      <td>0</td>\n      <td>Graduate</td>\n      <td>No</td>\n      <td>6000</td>\n      <td>0.0</td>\n      <td>141</td>\n      <td>360</td>\n      <td>1</td>\n      <td>Urban</td>\n      <td>Y</td>\n    </tr>\n    <tr>\n      <th>4</th>\n      <td>LP001011</td>\n      <td>Male</td>\n      <td>Yes</td>\n      <td>2</td>\n      <td>Graduate</td>\n      <td>Yes</td>\n      <td>5417</td>\n      <td>4196.0</td>\n      <td>267</td>\n      <td>360</td>\n      <td>1</td>\n      <td>Urban</td>\n      <td>Y</td>\n    </tr>\n    <tr>\n      <th>5</th>\n      <td>LP001013</td>\n      <td>Male</td>\n      <td>Yes</td>\n      <td>0</td>\n      <td>Not Graduate</td>\n      <td>No</td>\n      <td>2333</td>\n      <td>1516.0</td>\n      <td>95</td>\n      <td>360</td>\n      <td>1</td>\n      <td>Urban</td>\n      <td>Y</td>\n    </tr>\n    <tr>\n      <th>6</th>\n      <td>LP001014</td>\n      <td>Male</td>\n      <td>Yes</td>\n      <td>3+</td>\n      <td>Graduate</td>\n      <td>No</td>\n      <td>3036</td>\n      <td>2504.0</td>\n      <td>158</td>\n      <td>360</td>\n      <td>0</td>\n      <td>Semiurban</td>\n      <td>N</td>\n    </tr>\n    <tr>\n      <th>7</th>\n      <td>LP001018</td>\n      <td>Male</td>\n      <td>Yes</td>\n      <td>2</td>\n      <td>Graduate</td>\n      <td>No</td>\n      <td>4006</td>\n      <td>1526.0</td>\n      <td>168</td>\n      <td>360</td>\n      <td>1</td>\n      <td>Urban</td>\n      <td>Y</td>\n    </tr>\n    <tr>\n      <th>8</th>\n      <td>LP001020</td>\n      <td>Male</td>\n      <td>Yes</td>\n      <td>1</td>\n      <td>Graduate</td>\n      <td>No</td>\n      <td>12841</td>\n      <td>10968.0</td>\n      <td>349</td>\n      <td>360</td>\n      <td>1</td>\n      <td>Semiurban</td>\n      <td>N</td>\n    </tr>\n    <tr>\n      <th>9</th>\n      <td>LP001024</td>\n      <td>Male</td>\n      <td>Yes</td>\n      <td>2</td>\n      <td>Graduate</td>\n      <td>No</td>\n      <td>3200</td>\n      <td>700.0</td>\n      <td>70</td>\n      <td>360</td>\n      <td>1</td>\n      <td>Urban</td>\n      <td>Y</td>\n    </tr>\n    <tr>\n      <th>10</th>\n      <td>LP001028</td>\n      <td>Male</td>\n      <td>Yes</td>\n      <td>2</td>\n      <td>Graduate</td>\n      <td>No</td>\n      <td>3073</td>\n      <td>8106.0</td>\n      <td>200</td>\n      <td>360</td>\n      <td>1</td>\n      <td>Urban</td>\n      <td>Y</td>\n    </tr>\n    <tr>\n      <th>11</th>\n      <td>LP001029</td>\n      <td>Male</td>\n      <td>No</td>\n      <td>0</td>\n      <td>Graduate</td>\n      <td>No</td>\n      <td>1853</td>\n      <td>2840.0</td>\n      <td>114</td>\n      <td>360</td>\n      <td>1</td>\n      <td>Rural</td>\n      <td>N</td>\n    </tr>\n    <tr>\n      <th>12</th>\n      <td>LP001030</td>\n      <td>Male</td>\n      <td>Yes</td>\n      <td>2</td>\n      <td>Graduate</td>\n      <td>No</td>\n      <td>1299</td>\n      <td>1086.0</td>\n      <td>17</td>\n      <td>120</td>\n      <td>1</td>\n      <td>Urban</td>\n      <td>Y</td>\n    </tr>\n    <tr>\n      <th>13</th>\n      <td>LP001032</td>\n      <td>Male</td>\n      <td>No</td>\n      <td>0</td>\n      <td>Graduate</td>\n      <td>No</td>\n      <td>4950</td>\n      <td>0.0</td>\n      <td>125</td>\n      <td>360</td>\n      <td>1</td>\n      <td>Urban</td>\n      <td>Y</td>\n    </tr>\n    <tr>\n      <th>14</th>\n      <td>LP001036</td>\n      <td>Female</td>\n      <td>No</td>\n      <td>0</td>\n      <td>Graduate</td>\n      <td>No</td>\n      <td>3510</td>\n      <td>0.0</td>\n      <td>76</td>\n      <td>360</td>\n      <td>0</td>\n      <td>Urban</td>\n      <td>N</td>\n    </tr>\n    <tr>\n      <th>15</th>\n      <td>LP001038</td>\n      <td>Male</td>\n      <td>Yes</td>\n      <td>0</td>\n      <td>Not Graduate</td>\n      <td>No</td>\n      <td>4887</td>\n      <td>0.0</td>\n      <td>133</td>\n      <td>360</td>\n      <td>1</td>\n      <td>Rural</td>\n      <td>N</td>\n    </tr>\n    <tr>\n      <th>16</th>\n      <td>LP001043</td>\n      <td>Male</td>\n      <td>Yes</td>\n      <td>0</td>\n      <td>Not Graduate</td>\n      <td>No</td>\n      <td>7660</td>\n      <td>0.0</td>\n      <td>104</td>\n      <td>360</td>\n      <td>0</td>\n      <td>Urban</td>\n      <td>N</td>\n    </tr>\n    <tr>\n      <th>17</th>\n      <td>LP001046</td>\n      <td>Male</td>\n      <td>Yes</td>\n      <td>1</td>\n      <td>Graduate</td>\n      <td>No</td>\n      <td>5955</td>\n      <td>5625.0</td>\n      <td>315</td>\n      <td>360</td>\n      <td>1</td>\n      <td>Urban</td>\n      <td>Y</td>\n    </tr>\n    <tr>\n      <th>18</th>\n      <td>LP001047</td>\n      <td>Male</td>\n      <td>Yes</td>\n      <td>0</td>\n      <td>Not Graduate</td>\n      <td>No</td>\n      <td>2600</td>\n      <td>1911.0</td>\n      <td>116</td>\n      <td>360</td>\n      <td>0</td>\n      <td>Semiurban</td>\n      <td>N</td>\n    </tr>\n    <tr>\n      <th>19</th>\n      <td>LP001066</td>\n      <td>Male</td>\n      <td>Yes</td>\n      <td>0</td>\n      <td>Graduate</td>\n      <td>Yes</td>\n      <td>9560</td>\n      <td>0.0</td>\n      <td>191</td>\n      <td>360</td>\n      <td>1</td>\n      <td>Semiurban</td>\n      <td>Y</td>\n    </tr>\n  </tbody>\n</table>\n</div>"
     },
     "metadata": {},
     "execution_count": 60
    }
   ],
   "source": [
    "dataset.head(20)"
   ]
  },
  {
   "cell_type": "code",
   "execution_count": 61,
   "metadata": {},
   "outputs": [],
   "source": [
    "from sklearn.preprocessing import LabelEncoder\n",
    "var_mod = ['Gender','Married','Dependents','Education','Self_Employed','Property_Area','Loan_Status']\n",
    "le = LabelEncoder()\n",
    "for i in var_mod:\n",
    "    dataset[i] = le.fit_transform(dataset[i])"
   ]
  },
  {
   "cell_type": "code",
   "execution_count": 62,
   "metadata": {},
   "outputs": [
    {
     "output_type": "execute_result",
     "data": {
      "text/plain": "      Loan_ID  Gender  Married  Dependents  Education  Self_Employed  \\\n0    LP001003       1        1           1          0              0   \n1    LP001005       1        1           0          0              1   \n2    LP001006       1        1           0          1              0   \n3    LP001008       1        0           0          0              0   \n4    LP001011       1        1           2          0              1   \n..        ...     ...      ...         ...        ...            ...   \n475  LP002978       0        0           0          0              0   \n476  LP002979       1        1           3          0              0   \n477  LP002983       1        1           1          0              0   \n478  LP002984       1        1           2          0              0   \n479  LP002990       0        0           0          0              1   \n\n     ApplicantIncome  CoapplicantIncome  LoanAmount  Loan_Amount_Term  \\\n0               4583             1508.0         128               360   \n1               3000                0.0          66               360   \n2               2583             2358.0         120               360   \n3               6000                0.0         141               360   \n4               5417             4196.0         267               360   \n..               ...                ...         ...               ...   \n475             2900                0.0          71               360   \n476             4106                0.0          40               180   \n477             8072              240.0         253               360   \n478             7583                0.0         187               360   \n479             4583                0.0         133               360   \n\n     Credit_History  Property_Area  Loan_Status  \n0                 1              0            0  \n1                 1              2            1  \n2                 1              2            1  \n3                 1              2            1  \n4                 1              2            1  \n..              ...            ...          ...  \n475               1              0            1  \n476               1              0            1  \n477               1              2            1  \n478               1              2            1  \n479               0              1            0  \n\n[480 rows x 13 columns]",
      "text/html": "<div>\n<style scoped>\n    .dataframe tbody tr th:only-of-type {\n        vertical-align: middle;\n    }\n\n    .dataframe tbody tr th {\n        vertical-align: top;\n    }\n\n    .dataframe thead th {\n        text-align: right;\n    }\n</style>\n<table border=\"1\" class=\"dataframe\">\n  <thead>\n    <tr style=\"text-align: right;\">\n      <th></th>\n      <th>Loan_ID</th>\n      <th>Gender</th>\n      <th>Married</th>\n      <th>Dependents</th>\n      <th>Education</th>\n      <th>Self_Employed</th>\n      <th>ApplicantIncome</th>\n      <th>CoapplicantIncome</th>\n      <th>LoanAmount</th>\n      <th>Loan_Amount_Term</th>\n      <th>Credit_History</th>\n      <th>Property_Area</th>\n      <th>Loan_Status</th>\n    </tr>\n  </thead>\n  <tbody>\n    <tr>\n      <th>0</th>\n      <td>LP001003</td>\n      <td>1</td>\n      <td>1</td>\n      <td>1</td>\n      <td>0</td>\n      <td>0</td>\n      <td>4583</td>\n      <td>1508.0</td>\n      <td>128</td>\n      <td>360</td>\n      <td>1</td>\n      <td>0</td>\n      <td>0</td>\n    </tr>\n    <tr>\n      <th>1</th>\n      <td>LP001005</td>\n      <td>1</td>\n      <td>1</td>\n      <td>0</td>\n      <td>0</td>\n      <td>1</td>\n      <td>3000</td>\n      <td>0.0</td>\n      <td>66</td>\n      <td>360</td>\n      <td>1</td>\n      <td>2</td>\n      <td>1</td>\n    </tr>\n    <tr>\n      <th>2</th>\n      <td>LP001006</td>\n      <td>1</td>\n      <td>1</td>\n      <td>0</td>\n      <td>1</td>\n      <td>0</td>\n      <td>2583</td>\n      <td>2358.0</td>\n      <td>120</td>\n      <td>360</td>\n      <td>1</td>\n      <td>2</td>\n      <td>1</td>\n    </tr>\n    <tr>\n      <th>3</th>\n      <td>LP001008</td>\n      <td>1</td>\n      <td>0</td>\n      <td>0</td>\n      <td>0</td>\n      <td>0</td>\n      <td>6000</td>\n      <td>0.0</td>\n      <td>141</td>\n      <td>360</td>\n      <td>1</td>\n      <td>2</td>\n      <td>1</td>\n    </tr>\n    <tr>\n      <th>4</th>\n      <td>LP001011</td>\n      <td>1</td>\n      <td>1</td>\n      <td>2</td>\n      <td>0</td>\n      <td>1</td>\n      <td>5417</td>\n      <td>4196.0</td>\n      <td>267</td>\n      <td>360</td>\n      <td>1</td>\n      <td>2</td>\n      <td>1</td>\n    </tr>\n    <tr>\n      <th>...</th>\n      <td>...</td>\n      <td>...</td>\n      <td>...</td>\n      <td>...</td>\n      <td>...</td>\n      <td>...</td>\n      <td>...</td>\n      <td>...</td>\n      <td>...</td>\n      <td>...</td>\n      <td>...</td>\n      <td>...</td>\n      <td>...</td>\n    </tr>\n    <tr>\n      <th>475</th>\n      <td>LP002978</td>\n      <td>0</td>\n      <td>0</td>\n      <td>0</td>\n      <td>0</td>\n      <td>0</td>\n      <td>2900</td>\n      <td>0.0</td>\n      <td>71</td>\n      <td>360</td>\n      <td>1</td>\n      <td>0</td>\n      <td>1</td>\n    </tr>\n    <tr>\n      <th>476</th>\n      <td>LP002979</td>\n      <td>1</td>\n      <td>1</td>\n      <td>3</td>\n      <td>0</td>\n      <td>0</td>\n      <td>4106</td>\n      <td>0.0</td>\n      <td>40</td>\n      <td>180</td>\n      <td>1</td>\n      <td>0</td>\n      <td>1</td>\n    </tr>\n    <tr>\n      <th>477</th>\n      <td>LP002983</td>\n      <td>1</td>\n      <td>1</td>\n      <td>1</td>\n      <td>0</td>\n      <td>0</td>\n      <td>8072</td>\n      <td>240.0</td>\n      <td>253</td>\n      <td>360</td>\n      <td>1</td>\n      <td>2</td>\n      <td>1</td>\n    </tr>\n    <tr>\n      <th>478</th>\n      <td>LP002984</td>\n      <td>1</td>\n      <td>1</td>\n      <td>2</td>\n      <td>0</td>\n      <td>0</td>\n      <td>7583</td>\n      <td>0.0</td>\n      <td>187</td>\n      <td>360</td>\n      <td>1</td>\n      <td>2</td>\n      <td>1</td>\n    </tr>\n    <tr>\n      <th>479</th>\n      <td>LP002990</td>\n      <td>0</td>\n      <td>0</td>\n      <td>0</td>\n      <td>0</td>\n      <td>1</td>\n      <td>4583</td>\n      <td>0.0</td>\n      <td>133</td>\n      <td>360</td>\n      <td>0</td>\n      <td>1</td>\n      <td>0</td>\n    </tr>\n  </tbody>\n</table>\n<p>480 rows × 13 columns</p>\n</div>"
     },
     "metadata": {},
     "execution_count": 62
    }
   ],
   "source": [
    "dataset"
   ]
  },
  {
   "cell_type": "code",
   "execution_count": 63,
   "metadata": {},
   "outputs": [
    {
     "output_type": "execute_result",
     "data": {
      "text/plain": "array([['LP001003', 1, 1, ..., 1, 0, 0],\n       ['LP001005', 1, 1, ..., 1, 2, 1],\n       ['LP001006', 1, 1, ..., 1, 2, 1],\n       ...,\n       ['LP002983', 1, 1, ..., 1, 2, 1],\n       ['LP002984', 1, 1, ..., 1, 2, 1],\n       ['LP002990', 0, 0, ..., 0, 1, 0]], dtype=object)"
     },
     "metadata": {},
     "execution_count": 63
    }
   ],
   "source": [
    "array=dataset.values\n",
    "array"
   ]
  },
  {
   "cell_type": "code",
   "execution_count": 64,
   "metadata": {},
   "outputs": [
    {
     "output_type": "execute_result",
     "data": {
      "text/plain": "array([[4583, 1508.0, 128, 360, 1],\n       [3000, 0.0, 66, 360, 1],\n       [2583, 2358.0, 120, 360, 1],\n       ...,\n       [8072, 240.0, 253, 360, 1],\n       [7583, 0.0, 187, 360, 1],\n       [4583, 0.0, 133, 360, 0]], dtype=object)"
     },
     "metadata": {},
     "execution_count": 64
    }
   ],
   "source": [
    "X=array[:,6:11]\n",
    "X"
   ]
  },
  {
   "cell_type": "code",
   "execution_count": 65,
   "metadata": {},
   "outputs": [
    {
     "output_type": "execute_result",
     "data": {
      "text/plain": "array([0, 1, 1, 1, 1, 1, 0, 1, 0, 1, 1, 0, 1, 1, 0, 0, 0, 1, 0, 1, 1, 1,\n       0, 0, 0, 1, 0, 1, 1, 1, 0, 1, 1, 1, 1, 0, 1, 1, 1, 0, 0, 0, 1, 1,\n       0, 1, 1, 1, 1, 0, 0, 0, 0, 1, 1, 0, 1, 1, 1, 1, 0, 0, 0, 0, 1, 0,\n       1, 1, 1, 1, 1, 1, 1, 1, 1, 1, 1, 1, 1, 1, 1, 1, 1, 1, 0, 1, 1, 1,\n       1, 0, 1, 1, 1, 1, 1, 0, 1, 1, 1, 1, 0, 0, 1, 0, 0, 0, 1, 1, 1, 1,\n       1, 1, 1, 0, 1, 0, 1, 0, 0, 1, 1, 1, 1, 1, 0, 0, 1, 1, 0, 1, 0, 1,\n       0, 1, 0, 1, 1, 0, 1, 0, 0, 1, 0, 1, 1, 0, 1, 1, 0, 0, 1, 1, 0, 1,\n       0, 1, 1, 1, 1, 1, 1, 1, 1, 0, 0, 0, 1, 1, 1, 1, 0, 1, 0, 1, 1, 1,\n       0, 1, 1, 1, 1, 1, 1, 1, 1, 1, 0, 1, 1, 1, 0, 1, 1, 1, 1, 0, 0, 1,\n       1, 0, 1, 0, 0, 0, 1, 0, 1, 1, 1, 1, 1, 1, 1, 1, 1, 1, 1, 1, 1, 1,\n       1, 0, 1, 1, 1, 1, 0, 1, 1, 1, 1, 0, 1, 1, 1, 1, 0, 0, 0, 1, 1, 1,\n       1, 0, 0, 1, 1, 1, 1, 1, 0, 1, 1, 1, 0, 1, 1, 0, 1, 1, 1, 1, 1, 0,\n       0, 1, 1, 1, 1, 1, 1, 0, 1, 0, 1, 1, 0, 0, 1, 0, 1, 1, 1, 0, 0, 1,\n       0, 1, 1, 1, 0, 1, 1, 0, 1, 1, 1, 1, 0, 1, 1, 1, 1, 1, 1, 1, 0, 1,\n       1, 0, 0, 0, 1, 1, 0, 1, 1, 1, 0, 0, 0, 0, 1, 0, 1, 0, 0, 1, 1, 1,\n       1, 1, 1, 0, 1, 1, 1, 1, 0, 1, 1, 1, 0, 1, 1, 1, 1, 1, 1, 1, 0, 0,\n       0, 1, 1, 1, 1, 0, 1, 0, 1, 1, 0, 1, 0, 0, 1, 0, 1, 1, 1, 1, 1, 1,\n       1, 1, 1, 1, 1, 0, 0, 1, 0, 1, 1, 0, 1, 1, 1, 0, 1, 1, 1, 1, 1, 1,\n       1, 0, 1, 1, 0, 0, 1, 1, 0, 0, 1, 1, 1, 1, 1, 1, 1, 1, 1, 1, 0, 1,\n       1, 1, 0, 1, 1, 0, 1, 1, 0, 1, 0, 1, 1, 0, 0, 1, 1, 1, 1, 1, 1, 1,\n       1, 0, 1, 0, 0, 0, 1, 1, 0, 0, 1, 1, 1, 1, 0, 1, 0, 0, 1, 1, 0, 1,\n       0, 1, 1, 1, 0, 1, 1, 1, 1, 1, 1, 1, 1, 1, 1, 1, 1, 0])"
     },
     "metadata": {},
     "execution_count": 65
    }
   ],
   "source": [
    "Y = array[:,12]\n",
    "Y=Y.astype('int')\n",
    "Y"
   ]
  },
  {
   "cell_type": "code",
   "execution_count": 66,
   "metadata": {},
   "outputs": [
    {
     "output_type": "execute_result",
     "data": {
      "text/plain": "array([4583, 3000, 2583, 6000, 5417, 2333, 3036, 4006, 12841, 3200, 3073,\n       1853, 1299, 4950, 3510, 4887, 7660, 5955, 2600, 9560, 2799, 4226,\n       1442, 3167, 4692, 3500, 12500, 3667, 4166, 3748, 3600, 1800, 3941,\n       5649, 5821, 2645, 4000, 1928, 3086, 4230, 4616, 11500, 2708, 2132,\n       3366, 8080, 3357, 2500, 3029, 2609, 4166, 5726, 3200, 10750, 7100,\n       4300, 3208, 1875, 3500, 5266, 3750, 3750, 1000, 3167, 3846, 1378,\n       3988, 2366, 2500, 8566, 5695, 2958, 6250, 3273, 4133, 3620, 2484,\n       1977, 4188, 1759, 4288, 4843, 3052, 11417, 3800, 2071, 5316, 14583,\n       3167, 5568, 10408, 4166, 2137, 2957, 4300, 10513, 2014, 2718, 3459,\n       4895, 4000, 4583, 3316, 14999, 4200, 5042, 5417, 6950, 2698, 11757,\n       2330, 14866, 1538, 10000, 4860, 6277, 2577, 9166, 2281, 3254,\n       39999, 9538, 4583, 1863, 7933, 3089, 4167, 9323, 4583, 2439, 2237,\n       8000, 3522, 5708, 4344, 3497, 2045, 5516, 3750, 2333, 6400, 4600,\n       33846, 3625, 39147, 2178, 9328, 4885, 12000, 6033, 3858, 4191,\n       3125, 8333, 11000, 2600, 4923, 3500, 3917, 4408, 3244, 3975, 2479,\n       3418, 10000, 3430, 7787, 5703, 3173, 3850, 150, 3727, 2221, 4009,\n       2971, 6250, 3250, 6250, 6400, 2491, 8333, 3155, 5500, 3812, 3315,\n       5819, 2510, 2965, 6250, 3406, 6050, 9703, 6608, 2882, 1809, 1668,\n       3427, 2583, 2661, 16250, 3083, 6045, 5250, 14683, 2060, 3481, 7200,\n       5166, 4095, 4708, 4333, 2876, 3237, 11146, 2833, 2620, 3900, 2750,\n       3993, 3103, 14583, 4053, 3927, 2301, 1811, 3158, 2600, 3704, 4124,\n       9508, 3075, 4400, 3153, 2383, 6875, 4666, 5000, 2014, 1800, 5000,\n       1625, 4000, 3762, 2400, 20233, 2917, 2927, 2507, 3399, 3717, 10000,\n       2400, 4342, 15000, 8666, 4917, 5818, 4333, 2500, 4384, 2935, 2500,\n       4160, 2647, 2378, 4554, 3173, 2499, 3083, 2625, 9083, 8750, 2666,\n       5500, 2423, 8333, 3875, 3000, 5167, 4723, 5000, 4750, 6822, 6216,\n       2500, 6325, 19730, 15759, 5185, 9323, 3062, 4817, 8750, 3069, 5391,\n       5941, 6000, 7167, 4566, 2346, 2333, 5488, 9167, 9504, 1993, 3100,\n       3180, 3033, 3902, 1500, 2889, 2755, 2500, 1963, 7441, 4547, 2167,\n       2213, 8300, 81000, 3867, 6096, 2253, 2149, 2995, 2600, 1600, 1025,\n       3246, 5829, 1820, 14880, 2666, 4606, 5935, 2920, 2717, 8624, 6500,\n       2425, 3750, 1926, 10416, 7142, 3660, 7901, 4707, 37719, 3466, 4652,\n       3340, 2309, 3948, 2483, 7085, 3859, 4301, 3708, 4354, 8334, 7740,\n       3015, 4166, 6000, 2947, 4333, 3450, 2653, 4691, 5532, 16525, 6700,\n       16667, 4350, 3095, 2083, 10833, 8333, 1958, 3547, 18333, 4583,\n       2435, 3691, 17263, 3597, 3326, 2600, 2895, 6283, 645, 3159, 4865,\n       3814, 3510, 2479, 13262, 3598, 6065, 3283, 2130, 5815, 3466, 2031,\n       4683, 3400, 2192, 2500, 5677, 7948, 17500, 3775, 5285, 2679, 6783,\n       4281, 3588, 18165, 6133, 3617, 2917, 6417, 4608, 2138, 2239, 2768,\n       3358, 2526, 5000, 2785, 3333, 2454, 3593, 5468, 10139, 3887, 4180,\n       3675, 19484, 5923, 5800, 8799, 3333, 3400, 2378, 3166, 3417, 16666,\n       6125, 6406, 3159, 3229, 1782, 6540, 1836, 3166, 2787, 4283, 2297,\n       2165, 2726, 3000, 6000, 3859, 16120, 3833, 6383, 9963, 5780, 5703,\n       3676, 12000, 3400, 3987, 3232, 2900, 4106, 8072, 7583, 4583],\n      dtype=object)"
     },
     "metadata": {},
     "execution_count": 66
    }
   ],
   "source": [
    "test = array[:,6]\n",
    "test"
   ]
  },
  {
   "cell_type": "code",
   "execution_count": 67,
   "metadata": {},
   "outputs": [],
   "source": [
    "x_train, x_test, y_train, y_test = model_selection.train_test_split(X, Y, test_size=0.2, random_state=7)\n"
   ]
  },
  {
   "cell_type": "code",
   "execution_count": 68,
   "metadata": {},
   "outputs": [
    {
     "output_type": "execute_result",
     "data": {
      "text/plain": "array([[3522, 0.0, 81, 180, 1],\n       [6000, 0.0, 141, 360, 1],\n       [3333, 0.0, 70, 360, 1],\n       ...,\n       [3500, 1667.0, 114, 360, 1],\n       [3427, 0.0, 138, 360, 1],\n       [6250, 0.0, 128, 360, 1]], dtype=object)"
     },
     "metadata": {},
     "execution_count": 68
    }
   ],
   "source": [
    "x_train"
   ]
  },
  {
   "cell_type": "code",
   "execution_count": 69,
   "metadata": {},
   "outputs": [
    {
     "output_type": "execute_result",
     "data": {
      "text/plain": "array([0, 1, 1, 1, 0, 1, 0, 1, 1, 0, 0, 0, 1, 1, 1, 1, 1, 1, 1, 0, 1, 0,\n       1, 1, 1, 1, 0, 1, 1, 0, 1, 0, 1, 0, 1, 1, 1, 1, 1, 0, 1, 1, 1, 0,\n       0, 1, 1, 1, 1, 0, 1, 1, 0, 1, 1, 0, 1, 0, 1, 1, 0, 0, 1, 1, 1, 1,\n       1, 1, 1, 1, 0, 0, 0, 0, 1, 1, 1, 1, 1, 0, 0, 1, 1, 0, 0, 1, 0, 1,\n       0, 1, 0, 0, 1, 0, 1, 0, 1, 1, 1, 1, 1, 1, 1, 1, 1, 0, 1, 1, 1, 0,\n       1, 1, 1, 0, 0, 0, 1, 1, 1, 1, 1, 1, 1, 1, 1, 0, 1, 1, 0, 1, 0, 0,\n       0, 1, 1, 0, 1, 0, 0, 0, 1, 1, 1, 1, 1, 0, 1, 0, 1, 1, 0, 1, 1, 1,\n       0, 1, 1, 0, 1, 1, 1, 1, 0, 1, 1, 1, 1, 1, 1, 0, 1, 0, 1, 1, 1, 1,\n       0, 0, 1, 0, 1, 1, 1, 0, 1, 1, 0, 1, 1, 1, 1, 1, 0, 1, 1, 1, 1, 1,\n       1, 1, 1, 0, 0, 1, 1, 1, 1, 1, 1, 1, 0, 1, 1, 1, 0, 1, 1, 1, 0, 1,\n       0, 1, 1, 1, 1, 1, 1, 1, 1, 1, 1, 1, 1, 1, 0, 1, 0, 1, 0, 1, 0, 0,\n       1, 1, 1, 1, 1, 0, 1, 0, 1, 0, 1, 0, 1, 1, 1, 1, 0, 1, 1, 1, 0, 1,\n       1, 1, 1, 1, 1, 1, 1, 0, 1, 1, 1, 1, 1, 1, 1, 0, 1, 0, 0, 0, 0, 1,\n       0, 1, 1, 1, 1, 1, 1, 1, 0, 1, 1, 1, 1, 0, 1, 1, 1, 1, 0, 1, 1, 1,\n       1, 1, 1, 0, 1, 1, 0, 1, 1, 0, 1, 1, 1, 1, 1, 1, 0, 1, 1, 1, 1, 1,\n       1, 0, 1, 0, 1, 1, 0, 1, 0, 1, 1, 0, 1, 0, 1, 1, 1, 1, 1, 0, 1, 0,\n       1, 0, 0, 1, 0, 0, 0, 1, 0, 0, 1, 1, 0, 1, 1, 1, 1, 1, 1, 1, 1, 0,\n       1, 1, 1, 0, 1, 1, 1, 1, 0, 1])"
     },
     "metadata": {},
     "execution_count": 69
    }
   ],
   "source": [
    "y_train"
   ]
  },
  {
   "cell_type": "code",
   "execution_count": 70,
   "metadata": {},
   "outputs": [
    {
     "output_type": "stream",
     "name": "stdout",
     "text": "0.625\n"
    }
   ],
   "source": [
    "# Decision tree : Decision tree is a type of supervised learning algorithm (having a pre-defined target variable) that is mostly used in classification problems. It works for both categorical and continuous input and output variables\n",
    "\n",
    "model = DecisionTreeClassifier()\n",
    "model.fit(x_train,y_train)\n",
    "predictions = model.predict(x_test)\n",
    "print(accuracy_score(y_test, predictions))\n",
    "\n"
   ]
  },
  {
   "cell_type": "code",
   "execution_count": 71,
   "metadata": {},
   "outputs": [
    {
     "output_type": "stream",
     "name": "stdout",
     "text": "0.7708333333333334\n"
    }
   ],
   "source": [
    "# Logistic Regression : Logistic Regression is a classification algorithm. It is used to predict a binary outcome (1 / 0, Yes / No, True / False) given a set of independent variables. To represent binary / categorical outcome, we use dummy variables\n",
    "model = LogisticRegression()\n",
    "model.fit(x_train,y_train)\n",
    "predictions = model.predict(x_test)\n",
    "print(accuracy_score(y_test, predictions))"
   ]
  },
  {
   "cell_type": "code",
   "execution_count": 72,
   "metadata": {},
   "outputs": [
    {
     "output_type": "stream",
     "name": "stdout",
     "text": "0.7395833333333334\n"
    }
   ],
   "source": [
    "# Random forest : Random forests or random decision forests are an ensemble learning method for classification, regression and other tasks, that operate by constructing a multitude of decision trees at training time and outputting the class that is the mode of the classes (classification) or mean prediction (regression) of the individual trees\n",
    "model = RandomForestClassifier(n_estimators=100)\n",
    "model.fit(x_train,y_train)\n",
    "predictions = model.predict(x_test)\n",
    "print(accuracy_score(y_test, predictions))"
   ]
  },
  {
   "cell_type": "code",
   "execution_count": null,
   "metadata": {},
   "outputs": [],
   "source": []
  }
 ],
 "metadata": {
  "language_info": {
   "codemirror_mode": {
    "name": "ipython",
    "version": 3
   },
   "file_extension": ".py",
   "mimetype": "text/x-python",
   "name": "python",
   "nbconvert_exporter": "python",
   "pygments_lexer": "ipython3",
   "version": "3.8.2-final"
  },
  "orig_nbformat": 2,
  "kernelspec": {
   "name": "python38232bit3d7e3df7d8bf429d8377728140fa5863",
   "display_name": "Python 3.8.2 32-bit"
  }
 },
 "nbformat": 4,
 "nbformat_minor": 2
}